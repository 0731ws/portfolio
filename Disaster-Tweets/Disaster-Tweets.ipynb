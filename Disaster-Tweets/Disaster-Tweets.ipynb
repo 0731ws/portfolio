{
 "cells": [
  {
   "cell_type": "code",
   "execution_count": 23,
   "id": "339a5753",
   "metadata": {},
   "outputs": [],
   "source": [
    "import ssl \n",
    "import numpy as np\n",
    "import pandas as pd \n",
    "import torch\n",
    "import seaborn as sns\n",
    "import matplotlib.pyplot as plt\n",
    "from datetime import datetime \n",
    "import copy\n",
    "from collections import defaultdict\n",
    "from torch import tensor\n",
    "import torch.nn as nn\n",
    "from transformers import BertTokenizer,get_linear_schedule_with_warmup\n",
    "from sklearn.model_selection import train_test_split\n",
    "from torch.utils.data import Dataset,DataLoader\n",
    "import torch.nn.functional as F\n",
    "import torch.optim as optim\n",
    "from torch.optim import lr_scheduler\n",
    "from torchtext import transforms\n",
    "import pytorch_transformers\n",
    "from transformers import BertForTokenClassification\n",
    "from pytorch_transformers import BertModel\n",
    "ssl._create_default_https_context = ssl._create_unverified_context "
   ]
  },
  {
   "cell_type": "markdown",
   "id": "e36480d0",
   "metadata": {},
   "source": [
    "**Background**: The ubiquitousness of smartphones enables people to announce an emergency they’re observing in real-time. Because of this, more agencies are interested in programatically monitoring Twitter. But, it’s not always clear whether a person’s words are actually announcing a disaster. "
   ]
  },
  {
   "cell_type": "markdown",
   "id": "5a3a9f8d",
   "metadata": {},
   "source": [
    "**Objective**: Build a machine learning model that predicts which Tweets are about real disasters and which one’s aren’t. "
   ]
  },
  {
   "cell_type": "markdown",
   "id": "e58543f4",
   "metadata": {},
   "source": [
    "**Type**: Classification"
   ]
  },
  {
   "cell_type": "markdown",
   "id": "1a48e5f0",
   "metadata": {
    "run_control": {
     "marked": true
    }
   },
   "source": [
    "**Scale**: 7163 for train; 3263 for test"
   ]
  },
  {
   "cell_type": "markdown",
   "id": "550ba142",
   "metadata": {},
   "source": [
    "**Evaluation**: F1"
   ]
  },
  {
   "cell_type": "code",
   "execution_count": 40,
   "id": "34e2ec7e",
   "metadata": {},
   "outputs": [],
   "source": [
    "train = pd.read_csv('/Users/wangshuo/Library/Mobile Documents/com~apple~CloudDocs/data/nlp-getting-started/train.csv')\n",
    "\n",
    "Test = pd.read_csv('/Users/wangshuo/Library/Mobile Documents/com~apple~CloudDocs/data/nlp-getting-started/test.csv')"
   ]
  },
  {
   "cell_type": "code",
   "execution_count": 3,
   "id": "3a1f4bd0",
   "metadata": {},
   "outputs": [],
   "source": [
    "tokenizer = BertTokenizer.from_pretrained('bert-base-cased')"
   ]
  },
  {
   "cell_type": "code",
   "execution_count": 5,
   "id": "3581060a",
   "metadata": {},
   "outputs": [],
   "source": [
    "# max length\n",
    "token_lens = []\n",
    "for txt in train.text:\n",
    "    tokens = tokenizer.encode(txt,max_length=512)\n",
    "    token_lens.append(len(tokens))"
   ]
  },
  {
   "cell_type": "code",
   "execution_count": null,
   "id": "2266c854",
   "metadata": {},
   "outputs": [],
   "source": [
    "sns.set(rc={\"figure.dpi\": 200},font_scale=1.1)\n",
    "sns.displot(token_lens)"
   ]
  },
  {
   "cell_type": "code",
   "execution_count": 41,
   "id": "aba29f06",
   "metadata": {},
   "outputs": [],
   "source": [
    "class DT_dataset(Dataset):\n",
    "    def __init__(self,txts,labels,tokenizer,max_len):\n",
    "        self.txts = txts\n",
    "        self.labels = labels\n",
    "        self.tokenizer = tokenizer\n",
    "        self.max_len = max_len\n",
    "        \n",
    "    def __len__(self):\n",
    "        return len(self.txts)\n",
    "    \n",
    "    def __getitem__(self,idx):\n",
    "        txt = str(self.txts[idx])\n",
    "        label = self.labels[idx]\n",
    "        \n",
    "        encoding = self.tokenizer.encode_plus(\n",
    "                        txt,\n",
    "                        add_special_tokens=True,\n",
    "                        max_length=self.max_len,\n",
    "                        return_token_type_ids=False,\n",
    "                        padding='max_length',\n",
    "                        truncation=True,\n",
    "                        return_attention_mask=True,\n",
    "                        return_tensors='pt')\n",
    "        return {\n",
    "            'txt':txt,\n",
    "            'input_ids':encoding['input_ids'].flatten(),\n",
    "            'attention_mask':encoding['attention_mask'].flatten(),\n",
    "            'labels':torch.tensor(label,dtype=torch.long)\n",
    "        }"
   ]
  },
  {
   "cell_type": "code",
   "execution_count": 42,
   "id": "cc853141",
   "metadata": {},
   "outputs": [],
   "source": [
    "train_data,test_data = train_test_split(train,test_size=0.2,stratify=train['target'],random_state=7)\n",
    "\n",
    "train_data= DT_dataset(train_data['text'].to_numpy(),train_data['target'].to_numpy(),tokenizer,80)\n",
    "test_data = DT_dataset(test_data['text'].to_numpy(),test_data['target'].to_numpy(),tokenizer,80)\n",
    "\n",
    "train_loader = DataLoader(train_data,batch_size=16,shuffle=True)\n",
    "test_loader = DataLoader(test_data,batch_size=16,shuffle=True)"
   ]
  },
  {
   "cell_type": "code",
   "execution_count": 43,
   "id": "7f50c456",
   "metadata": {
    "code_folding": []
   },
   "outputs": [],
   "source": [
    "class BertClassifier(nn.Module):\n",
    "    def __init__(self,n_classes):\n",
    "        super(BertClassifier,self).__init__()\n",
    "        self.bert = BertModel.from_pretrained('bert-base-cased')\n",
    "        self.dropout = nn.Dropout(p=0.3)\n",
    "        self.out = nn.Linear(self.bert.config.hidden_size,n_classes)\n",
    "        \n",
    "    def forward(self,input_ids,attention_mask):\n",
    "        _,pooled_output = self.bert(input_ids=input_ids,attention_mask=attention_mask)\n",
    "        output = self.dropout(pooled_output)\n",
    "        return self.out(output)\n",
    "    "
   ]
  },
  {
   "cell_type": "code",
   "execution_count": null,
   "id": "850b4593",
   "metadata": {},
   "outputs": [],
   "source": []
  },
  {
   "cell_type": "code",
   "execution_count": null,
   "id": "8a82a69d",
   "metadata": {},
   "outputs": [],
   "source": []
  },
  {
   "cell_type": "code",
   "execution_count": null,
   "id": "d1747208",
   "metadata": {},
   "outputs": [],
   "source": []
  },
  {
   "cell_type": "code",
   "execution_count": 59,
   "id": "2cab6401",
   "metadata": {
    "code_folding": [
     0
    ]
   },
   "outputs": [],
   "source": [
    "# Dataset\n",
    "tokenizer = BertTokenizer.from_pretrained('bert-base-cased')\n",
    "class DT_dataset(Dataset):\n",
    "    def __init__(self,df): \n",
    "        self.df = df \n",
    "        self.labels = [label for label in df['target']]\n",
    "        self.texts = [tokenizer(text,\n",
    "                                padding='max_length',\n",
    "                                max_length=64,\n",
    "                                truncation=True,\n",
    "                                return_tensors='pt')\n",
    "                     for text in df['text']]\n",
    "    \n",
    "    def __len__(self):\n",
    "        return len(self.df)\n",
    "    \n",
    "    def classes(self):\n",
    "        return self.labels\n",
    "    \n",
    "    def __getitem__(self,idx):\n",
    "        texts = self.texts[idx]\n",
    "        labels = np.array(self.labels[idx])\n",
    "        return texts,labels\n",
    "\n",
    "train_data,test_data = train_test_split(train,test_size=0.2,stratify=train['target'],random_state=7)\n",
    "\n",
    "train_data,test_data = DT_dataset(train_data), DT_dataset(test_data)\n",
    "\n",
    "train_loader = DataLoader(train_data,batch_size=2,shuffle=True)\n",
    "test_loader = DataLoader(test_data,batch_size=2,shuffle=True)"
   ]
  },
  {
   "cell_type": "code",
   "execution_count": 265,
   "id": "fc24d4fe",
   "metadata": {
    "code_folding": [
     0
    ]
   },
   "outputs": [],
   "source": [
    "# Model\n",
    "class BertClassifier(nn.Module):\n",
    "    def __init__(self,dropout=0.5):\n",
    "        super(BertClassifier,self).__init__()\n",
    "        self.bert = BertModel.from_pretrained('bert-base-cased')\n",
    "        self.dropout = nn.Dropout(dropout)\n",
    "        self.linear = nn.Linear(768,2)\n",
    "        self.relu = nn.ReLU()\n",
    "        \n",
    "    def forward(self,input_id, mask):\n",
    "        _, pooled_output = self.bert(input_ids=input_id,attention_mask=mask)\n",
    "        dropout_output = self.dropout(pooled_output)\n",
    "        linear_output = self.linear(dropout_output)\n",
    "        final_layer = self.relu(linear_output)\n",
    "        return final_layer"
   ]
  },
  {
   "cell_type": "code",
   "execution_count": null,
   "id": "0d5e00ae",
   "metadata": {},
   "outputs": [],
   "source": [
    "optimizer = optim.SGD(model.parameters(), lr=0.01,momentum=0.9)\n",
    "\n",
    "scheduler = lr_scheduler.MultiStepLR(optimizer, milestones=[6,11], gamma=0.1)"
   ]
  },
  {
   "cell_type": "code",
   "execution_count": 44,
   "id": "2f2a3c2b",
   "metadata": {},
   "outputs": [],
   "source": [
    "EPOCHS = 10\n",
    "\n",
    "model = BertClassifier(2).to('mps')\n",
    "\n",
    "criterion = nn.CrossEntropyLoss().to('mps')\n",
    "\n",
    "optimizer = optim.AdamW(model.parameters(), lr=2e-5)\n",
    "\n",
    "total_steps = len(train_loader)*EPOCHS\n",
    "\n",
    "scheduler = get_linear_schedule_with_warmup(optimizer, num_warmup_steps=0, \n",
    "                            num_training_steps=total_steps)"
   ]
  },
  {
   "cell_type": "code",
   "execution_count": 300,
   "id": "7ad2f028",
   "metadata": {
    "code_folding": [
     0
    ]
   },
   "outputs": [],
   "source": [
    "#\n",
    "def get_acc(output, label):\n",
    "    total = output.shape[0]\n",
    "    _, pred_label = output.max(1)\n",
    "    num_correct = (pred_label == label).sum().item()\n",
    "    return num_correct / total\n",
    "\n",
    "def train(net, train_data, test_data, num_epochs, optimizer, criterion,scheduler):\n",
    "    best_wts = copy.deepcopy(model.state_dict())\n",
    "    best_acc = 0\n",
    "    prev_time = datetime.now()\n",
    "    for epoch in range(num_epochs):\n",
    "        train_loss = 0\n",
    "        train_acc = 0\n",
    "        net = net.train()\n",
    "        for item in train_data:\n",
    "            # forward\n",
    "#             im = im.to('mps')\n",
    "#             label = label.to('mps')\n",
    "            mask = item['attention_mask']\n",
    "            input_id = item['input_ids']\n",
    "            output = net(input_id,mask)\n",
    "            loss = criterion(output, item['labels'])\n",
    "            # backward\n",
    "            optimizer.zero_grad()\n",
    "            loss.backward()\n",
    "            optimizer.step()\n",
    "            \n",
    "            train_loss += loss.item()\n",
    "            train_acc += get_acc(output, item['labels'])\n",
    "        scheduler.step()\n",
    "        cur_time = datetime.now()\n",
    "        h, remainder = divmod((cur_time - prev_time).seconds, 3600)\n",
    "        m, s = divmod(remainder, 60)\n",
    "        time_str = \"Time %02d:%02d:%02d\" % (h, m, s) \n",
    "        if test_data is not None:\n",
    "            valid_loss = 0\n",
    "            valid_acc = 0\n",
    "            net = net.eval()\n",
    "            for item in test_data:\n",
    "#                 im = im.to('mps')\n",
    "#                 label = label.to('mps')\n",
    "                mask = item['attention_mask']\n",
    "                input_id = item['input_ids']\n",
    "                output = net(input_id,mask)\n",
    "                loss = criterion(output, item['labels'])\n",
    "                valid_loss += loss.item()\n",
    "                valid_acc += get_acc(output,item['labels'])\n",
    "                epoch_str = (\n",
    "                \"Epoch %d. Train Loss: %f, Train Acc: %f, Valid Loss: %f, Valid Acc: %f, \"\n",
    "                % (epoch, train_loss / len(train_data),\n",
    "                   train_acc / len(train_data), valid_loss / len(test_data),\n",
    "                   valid_acc / len(test_data)))\n",
    "            if valid_acc > best_acc:\n",
    "                best_acc = valid_acc\n",
    "                best_wts = copy.deepcopy(model.state_dict())\n",
    "        else:\n",
    "            epoch_str = (\"Epoch %d. Train Loss: %f, Train Acc: %f, \" %\n",
    "                         (epoch, train_loss / len(train_data),\n",
    "                          train_acc / len(train_data)))\n",
    "        prev_time = cur_time\n",
    "        print(epoch_str + time_str)\n",
    "    print(best_wts)    \n",
    "    model.load_state_dict(best_wts)\n",
    "\n",
    "train(model, train_loader,test_loader, 13, optimizer, criterion,scheduler,len(train_data)) "
   ]
  },
  {
   "cell_type": "code",
   "execution_count": null,
   "id": "738684e6",
   "metadata": {},
   "outputs": [],
   "source": []
  },
  {
   "cell_type": "code",
   "execution_count": 45,
   "id": "f9b33c6b",
   "metadata": {},
   "outputs": [],
   "source": [
    "def train_epoch(model,data_loader,loss_fn,optimizer,scheduler,n_examples):\n",
    "    model = model.train()\n",
    "    losses = []\n",
    "    correct_predictions = 0\n",
    "    \n",
    "    for d in data_loader:\n",
    "        input_ids = d[\"input_ids\"].to('mps')\n",
    "        attention_mask = d[\"attention_mask\"].to('mps')\n",
    "        targets = d[\"labels\"].to('mps')\n",
    "        \n",
    "        outputs = model(input_ids=input_ids,attention_mask=attention_mask)\n",
    "        \n",
    "        _, preds = torch.max(outputs, dim=1)\n",
    "        loss = loss_fn(outputs, targets)\n",
    "        \n",
    "        correct_predictions += torch.sum(preds == targets)\n",
    "        losses.append(loss.item())\n",
    "        \n",
    "        loss.backward()\n",
    "        nn.utils.clip_grad_norm_(model.parameters(), max_norm=1.0)\n",
    "        optimizer.step()\n",
    "        scheduler.step()\n",
    "        optimizer.zero_grad()\n",
    "    return correct_predictions,correct_predictions / n_examples, np.mean(losses)"
   ]
  },
  {
   "cell_type": "code",
   "execution_count": 38,
   "id": "10ff9232",
   "metadata": {},
   "outputs": [],
   "source": [
    "def eval_model(model,data_loader,loss_fn,n_examples):\n",
    "    model = model.eval()\n",
    "    \n",
    "    losses = []\n",
    "    correct_predictions = 0\n",
    "    \n",
    "    with torch.no_grad():\n",
    "        for d in data_loader:\n",
    "            input_ids = d[\"input_ids\"].to('mps')\n",
    "            attention_mask = d[\"attention_mask\"].to('mps')\n",
    "            targets = d[\"labels\"].to('mps')\n",
    "            \n",
    "            outputs = model(input_ids=input_ids,attention_mask=attention_mask)\n",
    "            \n",
    "            _, preds = torch.max(outputs, dim=1)\n",
    "            \n",
    "            loss = loss_fn(outputs, targets)\n",
    "            \n",
    "            correct_predictions += torch.sum(preds == targets)\n",
    "            losses.append(loss.item())\n",
    "            \n",
    "        return correct_predictions / n_examples, np.mean(losses)"
   ]
  },
  {
   "cell_type": "code",
   "execution_count": null,
   "id": "0abc3424",
   "metadata": {},
   "outputs": [],
   "source": [
    "%%time\n",
    "\n",
    "history = defaultdict(list)\n",
    "best_acc = 0\n",
    "\n",
    "for epoch in range(EPOCHS):\n",
    "    print(f'Epoch {epoch + 1}/{EPOCHS}')\n",
    "    print('_'*10)\n",
    "    \n",
    "    train_acc,train_loss = train_epoch(model,train_loader,criterion,optimizer,scheduler,\n",
    "                                      len(train_data))\n",
    "    \n",
    "    print(f'Train loss {train_loss} accuracy {train_acc}')\n",
    "    \n",
    "    val_acc, val_loss = eval_model(model,test_loader,criterion,len(test_data))\n",
    "    \n",
    "    print(f'Val   loss {val_loss} accuracy {val_acc}')\n",
    "    print()\n",
    "    \n",
    "    history['train_acc'].append(train_acc)\n",
    "    history['train_loss'].append(train_loss)\n",
    "    history['val_acc'].append(val_acc)\n",
    "    history['val_loss'].append(val_loss)\n",
    "    \n",
    "    if val_acc > best_acc:\n",
    "        torch.save(model.state_dict(), 'best_model_state.bin')\n",
    "        best_acc = val_acc"
   ]
  },
  {
   "cell_type": "code",
   "execution_count": 49,
   "id": "3683657a",
   "metadata": {},
   "outputs": [],
   "source": [
    "a,b,c = train_epoch(model,train_loader,criterion,optimizer,scheduler,len(train_data))"
   ]
  },
  {
   "cell_type": "code",
   "execution_count": 50,
   "id": "c4307556",
   "metadata": {},
   "outputs": [
    {
     "data": {
      "text/plain": [
       "tensor(3046, device='mps:0')"
      ]
     },
     "execution_count": 50,
     "metadata": {},
     "output_type": "execute_result"
    }
   ],
   "source": [
    "a "
   ]
  },
  {
   "cell_type": "code",
   "execution_count": 51,
   "id": "07027bf4",
   "metadata": {},
   "outputs": [
    {
     "ename": "TypeError",
     "evalue": "Cannot convert a MPS Tensor to float64 dtype as the MPS framework doesn't support float64. Please use float32 instead.",
     "output_type": "error",
     "traceback": [
      "\u001b[0;31m---------------------------------------------------------------------------\u001b[0m",
      "\u001b[0;31mTypeError\u001b[0m                                 Traceback (most recent call last)",
      "Input \u001b[0;32mIn [51]\u001b[0m, in \u001b[0;36m<cell line: 1>\u001b[0;34m()\u001b[0m\n\u001b[0;32m----> 1\u001b[0m \u001b[43ma\u001b[49m\u001b[38;5;241;43m.\u001b[39;49m\u001b[43mdouble\u001b[49m\u001b[43m(\u001b[49m\u001b[43m)\u001b[49m\n",
      "\u001b[0;31mTypeError\u001b[0m: Cannot convert a MPS Tensor to float64 dtype as the MPS framework doesn't support float64. Please use float32 instead."
     ]
    }
   ],
   "source": [
    "a.double()"
   ]
  },
  {
   "cell_type": "code",
   "execution_count": null,
   "id": "170a06c3",
   "metadata": {},
   "outputs": [],
   "source": []
  },
  {
   "cell_type": "code",
   "execution_count": null,
   "id": "9bb4c3fc",
   "metadata": {},
   "outputs": [],
   "source": []
  },
  {
   "cell_type": "code",
   "execution_count": null,
   "id": "924cc879",
   "metadata": {},
   "outputs": [],
   "source": [
    "correct_predictions,correct_predictions / n_examples, np.mean(losses)"
   ]
  }
 ],
 "metadata": {
  "kernelspec": {
   "display_name": "Python 3 (ipykernel)",
   "language": "python",
   "name": "python3"
  },
  "language_info": {
   "codemirror_mode": {
    "name": "ipython",
    "version": 3
   },
   "file_extension": ".py",
   "mimetype": "text/x-python",
   "name": "python",
   "nbconvert_exporter": "python",
   "pygments_lexer": "ipython3",
   "version": "3.9.7"
  },
  "toc": {
   "base_numbering": 1,
   "nav_menu": {},
   "number_sections": true,
   "sideBar": true,
   "skip_h1_title": false,
   "title_cell": "Table of Contents",
   "title_sidebar": "Contents",
   "toc_cell": false,
   "toc_position": {},
   "toc_section_display": true,
   "toc_window_display": false
  },
  "varInspector": {
   "cols": {
    "lenName": 16,
    "lenType": 16,
    "lenVar": 40
   },
   "kernels_config": {
    "python": {
     "delete_cmd_postfix": "",
     "delete_cmd_prefix": "del ",
     "library": "var_list.py",
     "varRefreshCmd": "print(var_dic_list())"
    },
    "r": {
     "delete_cmd_postfix": ") ",
     "delete_cmd_prefix": "rm(",
     "library": "var_list.r",
     "varRefreshCmd": "cat(var_dic_list()) "
    }
   },
   "types_to_exclude": [
    "module",
    "function",
    "builtin_function_or_method",
    "instance",
    "_Feature"
   ],
   "window_display": false
  }
 },
 "nbformat": 4,
 "nbformat_minor": 5
}
