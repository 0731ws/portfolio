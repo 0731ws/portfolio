{
 "cells": [
  {
   "cell_type": "code",
   "execution_count": 547,
   "id": "71c7c49d",
   "metadata": {},
   "outputs": [],
   "source": [
    "import numpy as np\n",
    "import pandas as pd\n",
    "import matplotlib.pyplot as plt\n",
    "import seaborn as sns\n",
    "import plotnine \n",
    "from plotnine import * \n",
    "from xgboost.sklearn import XGBRegressor as xgb \n",
    "from lightgbm.sklearn import LGBMRegressor as lgb \n",
    "from sklearn.pipeline import Pipeline\n",
    "from sklearn.model_selection import train_test_split\n",
    "from sklearn.metrics import mean_squared_log_error\n",
    "from sklearn.preprocessing import MinMaxScaler,StandardScaler\n",
    "from sklearn.metrics import mean_squared_error\n",
    "from sklearn.model_selection import KFold\n",
    "from sklearn.preprocessing import OrdinalEncoder\n",
    "import catboost as cat"
   ]
  },
  {
   "cell_type": "code",
   "execution_count": 548,
   "id": "d2f0c971",
   "metadata": {},
   "outputs": [],
   "source": [
    "pd.set_option('display.max_rows', 200)\n",
    "pd.set_option('display.max_columns', None)\n",
    "pd.set_option('display.max_colwidth',None) \n",
    "plotnine.options.figure_size = (15, 9.27)\n",
    "theme_set(theme_gray(base_size=20))\n",
    "sns.set(font_scale=1.2) "
   ]
  },
  {
   "cell_type": "markdown",
   "id": "c8151817",
   "metadata": {},
   "source": [
    "**Background**: With 79 explanatory variables describing (almost) every aspect of residential homes in Ames, Iowa, predict the final price of each home."
   ]
  },
  {
   "cell_type": "markdown",
   "id": "ccf24a57",
   "metadata": {},
   "source": [
    "**Objective**: Predict the final price of each home."
   ]
  },
  {
   "cell_type": "markdown",
   "id": "3eeb90e2",
   "metadata": {},
   "source": [
    "**Type**: Regression"
   ]
  },
  {
   "cell_type": "markdown",
   "id": "cf611a57",
   "metadata": {},
   "source": [
    "**Scale**: 1460 for train; 1459 for test."
   ]
  },
  {
   "cell_type": "markdown",
   "id": "c6a6f8b4",
   "metadata": {},
   "source": [
    "**Evaluation**: RMSE"
   ]
  },
  {
   "cell_type": "code",
   "execution_count": 549,
   "id": "4dde4c69",
   "metadata": {},
   "outputs": [],
   "source": [
    "df = pd.read_csv('/Users/wangshuo/Library/Mobile Documents/com~apple~CloudDocs/data/house-prices-advanced-regression-techniques/train.csv').drop(\"Id\",axis=1)\n",
    "\n",
    "Test = pd.read_csv('/Users/wangshuo/Library/Mobile Documents/com~apple~CloudDocs/data/house-prices-advanced-regression-techniques/test.csv')"
   ]
  },
  {
   "cell_type": "markdown",
   "id": "2d2f52f9",
   "metadata": {},
   "source": [
    "# Exploratory Data Analysis"
   ]
  },
  {
   "cell_type": "code",
   "execution_count": 223,
   "id": "189ef8ed",
   "metadata": {
    "code_folding": [
     0
    ]
   },
   "outputs": [],
   "source": [
    "# Num_var_des、Cat_var_des\n",
    "Num_var_des = [['MSSubClass','Identifies the type of dwelling involved in the sale.(20-190)'],\n",
    "                            ['LotFrontage','Linear feet of street connected to property.'],\n",
    "                            ['LotArea','Lot size in square feet.'],\n",
    "                            ['OverallQual','Rates the overall material and finish of the house.(1-10)'],\n",
    "                            ['OverallCond','Rates the overall condition of the house.(1-10)'],\n",
    "                            ['YearBuilt','Original construction date.'],\n",
    "                            ['YearRemodAdd','Remodel date (same as construction date if no remodeling or additions).'],\n",
    "                            ['MasVnrArea','Masonry veneer area in square feet.'],\n",
    "                            ['BsmtFinSF1','Type 1 finished square feet.'],\n",
    "                            ['BsmtFinSF2','Type 2 finished square feet.'],\n",
    "                            ['BsmtUnfSF','Unfinished square feet of basement area.'],\n",
    "                            ['TotalBsmtSF','Total square feet of basement area.'],\n",
    "                            ['1stFlrSF','First Floor square feet.'],\n",
    "                            ['2ndFlrSF','Second floor square feet.'],\n",
    "                            ['LowQualFinSF','Low quality finished square feet (all floors).'],\n",
    "                            ['GrLivArea','Above grade (ground) living area square feet.'],\n",
    "                            ['BsmtFullBath','Basement full bathrooms.'],\n",
    "                            ['BsmtHalfBath','Basement half bathrooms.'],\n",
    "                            ['FullBath','Full bathrooms above grade.'],\n",
    "                            ['HalfBath','Half baths above grade.'],\n",
    "                            ['BedroomAbvGr',np.nan],\n",
    "                            ['KitchenAbvGr',np.nan],\n",
    "                            ['TotRmsAbvGrd','Total rooms above grade (does not include bathrooms).'],\n",
    "                            ['Fireplaces','Number of fireplaces.'],\n",
    "                            ['GarageYrBlt','Year garage was built.'],\n",
    "                            ['GarageCars','Size of garage in car capacity.'],\n",
    "                            ['GarageArea','Size of garage in square feet.'],\n",
    "                            ['WoodDeckSF','Wood deck area in square feet.'],\n",
    "                            ['OpenPorchSF','Open porch area in square feet.'],\n",
    "                            ['EnclosedPorch','Enclosed porch area in square feet.'],\n",
    "                            ['3SsnPorch','Three season porch area in square feet.'],\n",
    "                            ['ScreenPorch','Screen porch area in square feet.'],\n",
    "                            ['PoolArea','Pool area in square feet.'],\n",
    "                            ['MiscVal','Value of miscellaneous feature.'],\n",
    "                            ['MoSold','Month Sold (MM).'],\n",
    "                            ['YrSold','Year Sold (YYYY).']]\n",
    "\n",
    "Cat_var_des = [['MSZoning','Identifies the general zoning classification of the sale.'],\n",
    "                          ['Street','Type of road access to property.'],\n",
    "                          ['Alley','Type of alley access to property.'],\n",
    "                          ['LotShape','General shape of property.'],\n",
    "                          ['LandContour','Flatness of the property.'],\n",
    "                          ['Utilities','Type of utilities available.'],\n",
    "                          ['LotConfig','Lot configuration.'],\n",
    "                          ['*LandSlope','Slope of property.'],\n",
    "                          ['Neighborhood','Physical locations within Ames city limits.'],\n",
    "                          ['Condition1','Proximity to various conditions.'],\n",
    "                          ['Condition2','Proximity to various conditions (if more than one is present).'],\n",
    "                          ['BldgType','Type of dwelling.'],\n",
    "                          ['HouseStyle','Style of dwelling.'],\n",
    "                          ['RoofStyle','Type of roof.'],\n",
    "                          ['RoofMatl','Roof material.'],\n",
    "                          ['Exterior1st','Exterior covering on house.'],\n",
    "                          ['Exterior2nd','Exterior covering on house (if more than one material).'],\n",
    "                          ['MasVnrType','Masonry veneer type.'],\n",
    "                          ['*ExterQual','Evaluates the quality of the material on the exterior.'],\n",
    "                          ['*ExterCond','Evaluates the present condition of the material on the exterior.'],\n",
    "                          ['Foundation','Type of foundation.'],\n",
    "                          ['*BsmtQual','Evaluates the height of the basement.'],\n",
    "                          ['*BsmtCond','Evaluates the general condition of the basement.'],\n",
    "                          ['*BsmtExposure','Refers to walkout or garden level walls.'],\n",
    "                          ['*BsmtFinType1','Rating of basement finished area.'],\n",
    "                          ['*BsmtFinType2','Rating of basement finished area (if multiple types).'],\n",
    "                          ['Heating','Type of heating.'],\n",
    "                          ['*HeatingQC','Heating quality and condition.'],\n",
    "                          ['*CentralAir','Central air conditioning.'],\n",
    "                          ['Electrical','Electrical system.'],\n",
    "                          ['*KitchenQual','Kitchen quality.'],\n",
    "                          ['Functional','Home functionality (Assume typical unless deductions are warranted).'],\n",
    "                          ['*FireplaceQu','Fireplace quality.'],\n",
    "                          ['GarageType','Garage location.'],\n",
    "                          ['*GarageFinish','Interior finish of the garage.'],\n",
    "                          ['*GarageQual','Garage quality.'],\n",
    "                          ['*GarageCond','Garage condition.'],\n",
    "                          ['*PavedDrive','Paved driveway.'],\n",
    "                          ['*PoolQC','Pool quality.'],\n",
    "                          ['*Fence','Fence quality'],\n",
    "                          ['MiscFeature','Miscellaneous feature not covered in other categories.'],\n",
    "                          ['SaleType','Type of sale.'],\n",
    "                          ['SaleCondition','Condition of sale.']] "
   ]
  },
  {
   "cell_type": "code",
   "execution_count": 250,
   "id": "5315067f",
   "metadata": {
    "code_folding": [
     0
    ]
   },
   "outputs": [],
   "source": [
    "# EDA\n",
    "def EDA(df,Test,Num_var_des=None,Cat_var_des=None):\n",
    "    # basic information\n",
    "    basic_information = [len(df),df.shape[1],df.select_dtypes(include='number').columns.shape[0],\n",
    "                    df.select_dtypes(include='object').columns.shape[0],df.duplicated().sum()]\n",
    "\n",
    "    basic_information = pd.DataFrame(data=basic_information,index=['Records','Variables','Num_var','Cat_var',\n",
    "                                              'Duplicates']).reset_index().rename(columns={'index':'',0:'Number'})\n",
    "    # numerical variables\n",
    "    num_var = df.describe().transpose()\n",
    "    \n",
    "    # categorical variables\n",
    "    cat_var = []\n",
    "    \n",
    "    for col in df.select_dtypes(include='object').columns:\n",
    "        cat_var.append((col,df[col].value_counts(dropna=False).to_dict()))\n",
    "        \n",
    "    cat_var = pd.DataFrame(cat_var,columns=['Feature','Categories'])     \n",
    "    \n",
    "    # numerical variables description\n",
    "    num_var_des = pd.DataFrame(data=Num_var_des,columns=['Feature','Des'])\n",
    "    \n",
    "    # numerical variables description\n",
    "    cat_var_des = pd.DataFrame(data=Cat_var_des,columns=['Feature','Des'])\n",
    "    \n",
    "    # variables with missing values\n",
    "    miss = []\n",
    "    for col in df.columns:\n",
    "        miss.append((col,\n",
    "                      df[col].nunique(),\n",
    "                      df[col].isnull().sum(),\n",
    "                      df[col].isnull().sum()*100/df.shape[0],\n",
    "                      df[col].value_counts(normalize=True,dropna=False).values[0]*100,\n",
    "                      df[col].dtype))\n",
    "    miss = pd.DataFrame(miss,columns=['Feature',\n",
    "                'Unique_values','Missing_values_num','Missing_values_per','Biggest_cat','Type']).sort_values('Missing_values_per',\n",
    "                                                                                    ascending=False)\n",
    "    \n",
    "    miss.query('Missing_values_num>0',inplace=True)\n",
    "    \n",
    "    # number of outliers\n",
    "    num_outliers = []\n",
    "    \n",
    "    for col in df.select_dtypes('number').columns:\n",
    "        top = df[col].mean()+3*df[col].std()\n",
    "        bot = df[col].mean()-3*df[col].std()\n",
    "        mean1 = df[col].quantile(0.25)\n",
    "        mean2 = df[col].quantile(0.75)\n",
    "        top2 = mean2 + 1.5*(mean2-mean1)\n",
    "        bot2 = mean1 - 1.5*(mean2-mean1)\n",
    "        num_outliers.append((col,\n",
    "                 df[(df[col]>top) | (df[col]<bot)].shape[0],\n",
    "                 df[(df[col]>top2) | (df[col]<bot2)].shape[0]))\n",
    "        \n",
    "    num_outliers = pd.DataFrame(o,columns=['Feature',\n",
    "                'OutlierNumStd','OutlierNumIQR'])\n",
    "        \n",
    "    # distribution of variables\n",
    "    dis_var = []\n",
    "\n",
    "    for col in Test.select_dtypes('object').columns:\n",
    "        dis_var.append((col,\n",
    "                    str(set(df[col].unique())-set(Test[col].unique())),\n",
    "                    str(set(Test[col].unique())-set(df[col].unique()))))\n",
    "        \n",
    "    dis_var = pd.DataFrame(dis_var,columns=['Feature','train-test','test-train']) \n",
    "    \n",
    "    dis_var = dis_var[(dis_var['train-test']!='set()') | (dis_var['test-train']!='set()')]\n",
    "\n",
    "    if Num_var_des != None:\n",
    "        return basic_information,num_var,cat_var,num_var_des,cat_var_des,miss,num_outliers,dis_var\n",
    "    else:\n",
    "        return basic_information,num_var,cat_var,miss,num_outliers,dis_var\n",
    "\n",
    "basic_information,num_var,cat_var,num_var_des,cat_var_des,miss,num_outliers,dis_var = EDA(df,Test,Num_var_des,Cat_var_des)"
   ]
  },
  {
   "cell_type": "code",
   "execution_count": 209,
   "id": "9d7560a5",
   "metadata": {
    "code_folding": [
     0
    ]
   },
   "outputs": [],
   "source": [
    "# EDA_Charts\n",
    "def EDA_Charts(df):\n",
    "    # correlation\n",
    "    correlation = plt.figure(figsize=(25,25),dpi=200)\n",
    "    sns.heatmap(df.select_dtypes('number').corr(),annot=True,cmap=\"Blues\")\n",
    "    \n",
    "    # num_dis\n",
    "    k = 0 \n",
    "    num_dis,ax = plt.subplots(7,6,figsize=(45,35),dpi=150)\n",
    "    \n",
    "    for a in range(7):\n",
    "        for b in range(6):\n",
    "            sns.histplot(df.select_dtypes(include='number').iloc[:,k],ax=ax[a,b],bins=8)\n",
    "            k+=1\n",
    "            if k > df.select_dtypes(include='number').shape[1]-1:\n",
    "                break\n",
    "    \n",
    "    # cat_dis\n",
    "    k = 0 \n",
    "    cat_dis,ax = plt.subplots(7,7,figsize=(45,35),dpi=150)\n",
    "    \n",
    "    for a in range(7):\n",
    "        for b in range(7):\n",
    "            sns.countplot(y=df.select_dtypes(include='object').iloc[:,k],ax=ax[a,b])\n",
    "            k+=1\n",
    "            if k > df.select_dtypes(include='object').shape[1]-1:\n",
    "                break\n",
    "                \n",
    "    # target\n",
    "    target,ax = plt.subplots(2,1,figsize=(15,9),dpi=150)\n",
    "    \n",
    "    sns.histplot(x='SalePrice',data=df,bins=12,ax=ax[0])\n",
    "    sns.boxplot(x='SalePrice',data=df,ax=ax[1])\n",
    "    \n",
    "    # time\n",
    "    time, ax = plt.subplots(4,1,figsize=(15,18),dpi=150)\n",
    "    sns.scatterplot(x='YearBuilt',y='SalePrice',data=df,ax=ax[0])\n",
    "    sns.scatterplot(x='YrSold',y='SalePrice',data=df,ax=ax[1])\n",
    "    sns.scatterplot(x='YearRemodAdd',y='SalePrice',data=df,ax=ax[2])\n",
    "    sns.scatterplot(x='GarageYrBlt',y='SalePrice',data=df,ax=ax[3]) \n",
    "\n",
    "    return correlation,num_dis,cat_dis,target,time\n",
    "\n",
    "\n",
    "correlation,num_dis,cat_dis,target,time = EDA_Charts(df)"
   ]
  },
  {
   "cell_type": "markdown",
   "id": "51082599",
   "metadata": {},
   "source": [
    "# Feature Engineering"
   ]
  },
  {
   "cell_type": "code",
   "execution_count": 570,
   "id": "2636c04a",
   "metadata": {
    "code_folding": [
     2,
     18,
     70
    ]
   },
   "outputs": [],
   "source": [
    "## data preprocessing\n",
    "# modfify categorical features\n",
    "def modify_cat(df):\n",
    "    df['Utilities'] = df['Utilities'].replace('NoSeWa',df['Utilities'].value_counts().index[0])\n",
    "    df['Condition2'] = df['Condition2'].replace(['RRAe', 'RRNn', 'RRAn'],df['Condition2'].value_counts().index[0])\n",
    "    df['HouseStyle'] = df['HouseStyle'].replace('2.5Fin',df['HouseStyle'].value_counts().index[0])\n",
    "    df['RoofMatl'] = df['RoofMatl'].replace(['Roll', 'Metal', 'ClyTile', 'Membran'],df['RoofMatl'].value_counts().index[0])\n",
    "    df['Exterior1st'] = df['Exterior1st'].replace(['ImStucc', 'Stone'],df['Exterior1st'].value_counts().index[0])\n",
    "    df['Exterior2nd'] = df['Exterior2nd'].replace('Other',df['Exterior2nd'].value_counts().index[0])\n",
    "    df['Heating'] = df['Heating'].replace(['OthW', 'Floor'],df['Heating'].value_counts().index[0])\n",
    "    df['Electrical'] = df['Electrical'].replace('Mix',df['Electrical'].value_counts().index[0])\n",
    "    df['GarageQual'] = df['GarageQual'].replace('Ex',df['GarageQual'].value_counts().index[0])\n",
    "    df['PoolQC'] = df['PoolQC'].replace('Fa',df['PoolQC'].value_counts().index[0])\n",
    "    df['MiscFeature'] = df['MiscFeature'].replace('TenC',df['MiscFeature'].value_counts().index[0])\n",
    "    \n",
    "    return df\n",
    "\n",
    "# missing value\n",
    "def miss_value(df):\n",
    "    # number\n",
    "    for col in df.select_dtypes('number'):\n",
    "        df[col] = df[col].fillna(df[col].median())\n",
    "    \n",
    "    # category\n",
    "    # greater than 80%\n",
    "    df = df.drop(['PoolQC','MiscFeature','Alley','Fence'],axis=1)\n",
    "    \n",
    "    # another type\n",
    "    a = ['FireplaceQu','GarageCond','GarageType','GarageFinish','GarageQual','BsmtFinType2','BsmtExposure','BsmtQual','BsmtCond','BsmtFinType1','MasVnrType']\n",
    "    df[a] = df[a].fillna(-1)\n",
    "    \n",
    "    # mode\n",
    "    b = ['Electrical']\n",
    "    for i in b:\n",
    "        df[i] = df[i].fillna(df[i].value_counts().index[0])\n",
    "    \n",
    "    return df\n",
    "    \n",
    "## feature transformation\n",
    "# number feature\n",
    "# bin\n",
    "def bin(df):\n",
    "    l = ['MSSubClass', 'LotFrontage', 'LotArea', 'OverallQual', 'OverallCond',\n",
    "       'YearBuilt', 'YearRemodAdd', 'MasVnrArea', 'BsmtFinSF1', 'BsmtFinSF2',\n",
    "       'BsmtUnfSF', 'TotalBsmtSF', '1stFlrSF', '2ndFlrSF', 'LowQualFinSF',\n",
    "       'GrLivArea', 'BsmtFullBath', 'BsmtHalfBath', 'FullBath', 'HalfBath',\n",
    "       'BedroomAbvGr', 'KitchenAbvGr', 'TotRmsAbvGrd', 'Fireplaces',\n",
    "       'GarageYrBlt', 'GarageCars', 'GarageArea', 'WoodDeckSF', 'OpenPorchSF',\n",
    "       'EnclosedPorch', '3SsnPorch', 'ScreenPorch', 'PoolArea', 'MiscVal',\n",
    "       'MoSold', 'YrSold']\n",
    "    for i in l:\n",
    "        df[i] = pd.qcut(df[i].rank(method='first'),10,labels=False)\n",
    "        \n",
    "    return df \n",
    "\n",
    "# log\n",
    "def ft_log(df):\n",
    "    l = ['MSSubClass', 'LotFrontage', 'LotArea', 'OverallQual', 'OverallCond',\n",
    "       'YearBuilt', 'YearRemodAdd', 'MasVnrArea', 'BsmtFinSF1', 'BsmtFinSF2',\n",
    "       'BsmtUnfSF', 'TotalBsmtSF', '1stFlrSF', '2ndFlrSF', 'LowQualFinSF',\n",
    "       'GrLivArea', 'BsmtFullBath', 'BsmtHalfBath', 'FullBath', 'HalfBath',\n",
    "       'BedroomAbvGr', 'KitchenAbvGr', 'TotRmsAbvGrd', 'Fireplaces',\n",
    "       'GarageYrBlt', 'GarageCars', 'GarageArea', 'WoodDeckSF', 'OpenPorchSF',\n",
    "       'EnclosedPorch', '3SsnPorch', 'ScreenPorch', 'PoolArea', 'MiscVal',\n",
    "       'MoSold', 'YrSold']\n",
    "    for i in l:\n",
    "        df[i] = np.log(df[i])\n",
    "        \n",
    "    return df\n",
    "    \n",
    "\n",
    "# Categorical feature \n",
    "def cat_trans(df):\n",
    "    # one hot \n",
    "    a = ['LandSlope','ExterQual','ExterCond','BsmtQual','BsmtCond'\n",
    " ,'BsmtExposure','BsmtFinType1','BsmtFinType2','HeatingQC','KitchenQual','FireplaceQu',\n",
    " 'GarageFinish','GarageQual','GarageCond','PavedDrive','PoolQC','Fence']\n",
    "    \n",
    "    b = set(df.select_dtypes('object').columns) - set(a)\n",
    "    \n",
    "    df = pd.concat((df.drop(b,axis=1),pd.get_dummies(df[b])),axis=1)\n",
    "    \n",
    "    # ordial\n",
    "    df['LandSlope'] = df['LandSlope'].replace({'Gtl':0,'Mod':1,'Sev':2})\n",
    "    df['ExterQual'] = df['ExterQual'].replace({'Po':0,'Fa':1,'TA':2,'Gd':3,'Ex':4})\n",
    "    df['ExterCond'] = df['ExterCond'].replace({'Po':0,'Fa':1,'TA':2,'Gd':3,'Ex':4})\n",
    "    df['BsmtQual'] = df['BsmtQual'].replace({'Po':0,'Fa':1,'TA':2,'Gd':3,'Ex':4})\n",
    "    df['BsmtCond'] = df['BsmtCond'].replace({'Po':0,'Fa':1,'TA':2,'Gd':3,'Ex':4})\n",
    "    df['BsmtExposure'] = df['BsmtExposure'].replace({'None':0,'No':1,'Mn':2,'Av':3,'Gd':4})\n",
    "    df['BsmtFinType1'] = df['BsmtFinType1'].replace({'None':0,'Unf':1,'LwQ':2,'Rec':3,'BLQ':4,\n",
    "                                                    'ALQ':5,'GLQ':6})\n",
    "    df['BsmtFinType2'] = df['BsmtFinType2'].replace({'None':0,'Unf':1,'LwQ':2,'Rec':3,'BLQ':4,\n",
    "                                                    'ALQ':5,'GLQ':6})\n",
    "    df['HeatingQC'] = df['HeatingQC'].replace({'Po':0,'Fa':1,'TA':2,'Gd':3,'Ex':4})\n",
    "    df['KitchenQual'] = df['KitchenQual'].replace({'Po':0,'Fa':1,'TA':2,'Gd':3,'Ex':4})\n",
    "    df['FireplaceQu'] = df['FireplaceQu'].replace({'Po':0,'Fa':1,'TA':2,'Gd':3,'Ex':4})\n",
    "    df['GarageFinish'] = df['GarageFinish'].replace({'None':0,'Unf':1,'RFn':2,'Fin':3})\n",
    "    df['GarageQual'] = df['GarageQual'].replace({'Po':0,'Fa':1,'TA':2,'Gd':3,'Ex':4})\n",
    "    df['GarageCond'] = df['GarageCond'].replace({'Po':0,'Fa':1,'TA':2,'Gd':3,'Ex':4})\n",
    "    df['PavedDrive'] = df['PavedDrive'].replace({'N':0,'P':1,'Y':2})\n",
    "    \n",
    "    return df \n",
    "\n"
   ]
  },
  {
   "cell_type": "code",
   "execution_count": 571,
   "id": "fee672cb",
   "metadata": {
    "code_folding": []
   },
   "outputs": [],
   "source": [
    "# feature engineering for train\n",
    "def fe_train(df):\n",
    "    df = df.copy()\n",
    "    ## data preprocessing\n",
    "    # modfify categorical features\n",
    "    df = modify_cat(df)\n",
    "    \n",
    "    # missing value\n",
    "    df = miss_value(df)\n",
    "    \n",
    "    ## feature transformation\n",
    "    # number feature\n",
    "    # bin\n",
    "#     df = bin(df)\n",
    "\n",
    "   # log\n",
    "    df = ft_log(df)\n",
    "    \n",
    "    # Categorical \n",
    "    df = cat_trans(df)\n",
    "    \n",
    "    return df"
   ]
  },
  {
   "cell_type": "code",
   "execution_count": null,
   "id": "e708e9bf",
   "metadata": {
    "code_folding": [
     0
    ]
   },
   "outputs": [],
   "source": [
    "# feature engineering for test\n",
    "def fe_test(df):\n",
    "    df = df.copy()\n",
    "    # data preprocessing\n",
    "    # modfify categorical features\n",
    "    df = modify_cat(df)\n",
    "    \n",
    "    # feature transformation\n",
    "    # Categorical features\n",
    "    # one hot\n",
    "    df = one_hot(df)\n",
    "    \n",
    "    return df "
   ]
  },
  {
   "cell_type": "code",
   "execution_count": 551,
   "id": "0f167c12",
   "metadata": {
    "code_folding": [
     1
    ]
   },
   "outputs": [],
   "source": [
    "# catboost\n",
    "def evl_catb(df):\n",
    "    folds = KFold(n_splits=10,shuffle=True)\n",
    "    df = fe_train(df)\n",
    "    train = df.drop('SalePrice', axis=1)\n",
    "    target = df['SalePrice']\n",
    "\n",
    "    train_score,test_score,RMSE_train,RMSE_test = [],[],[],[]\n",
    "    best_model = 0\n",
    "    best_RMSE = 100\n",
    "    for train_idx,test_idx in folds.split(train,target):\n",
    "        x_train,y_train = train.iloc[train_idx,:],target[train_idx]\n",
    "        x_test,y_test = train.iloc[test_idx,:],target[test_idx]\n",
    "        \n",
    "        model = cat.CatBoostRegressor().fit(x_train,y_train,eval_set=[(x_test,y_test)],use_best_model=True)\n",
    "        \n",
    "        RMSE = np.sqrt(mean_squared_log_error(y_test,model.predict(x_test)))\n",
    "        \n",
    "        if RMSE < best_RMSE:\n",
    "            best_RMSE = RMSE\n",
    "            best_model = model\n",
    "        \n",
    "        train_score.append(model.score(x_train,y_train))\n",
    "        test_score.append(model.score(x_test,y_test))\n",
    "        RMSE_train.append(np.sqrt(mean_squared_log_error(y_train,model.predict(x_train))))\n",
    "        RMSE_test.append(RMSE)\n",
    "    \n",
    "    d = pd.DataFrame()\n",
    "    d['train_score'] = train_score\n",
    "    d['test_score'] = test_score\n",
    "    d['RMSE_train'] = RMSE_train\n",
    "    d['RMSE_test'] = RMSE_test\n",
    "    print(d)\n",
    "    return best_model"
   ]
  },
  {
   "cell_type": "code",
   "execution_count": 526,
   "id": "4d8b43bf",
   "metadata": {
    "code_folding": [
     0
    ]
   },
   "outputs": [],
   "source": [
    "# xgb\n",
    "def evl_xgb(df):\n",
    "    folds = KFold(n_splits=10,shuffle=True)\n",
    "    df = fe_train(df)\n",
    "    train = df.drop('SalePrice', axis=1)\n",
    "    target = df['SalePrice']\n",
    "\n",
    "    train_score,test_score,RMSE_train,RMSE_test = [],[],[],[]\n",
    "    best_model = 0\n",
    "    best_RMSE = 100\n",
    "    for train_idx,test_idx in folds.split(train,target):\n",
    "        x_train,y_train = train.iloc[train_idx,:],target[train_idx]\n",
    "        x_test,y_test = train.iloc[test_idx,:],target[test_idx]\n",
    "        \n",
    "        model = xgb().fit(x_train,y_train)\n",
    "        \n",
    "        RMSE = np.sqrt(mean_squared_log_error(y_test,model.predict(x_test)))\n",
    "        \n",
    "        if RMSE < best_RMSE:\n",
    "            best_RMSE = RMSE\n",
    "            best_model = model\n",
    "        \n",
    "        train_score.append(model.score(x_train,y_train))\n",
    "        test_score.append(model.score(x_test,y_test))\n",
    "        RMSE_train.append(np.sqrt(mean_squared_log_error(y_train,model.predict(x_train))))\n",
    "        RMSE_test.append(RMSE)\n",
    "    \n",
    "    d = pd.DataFrame()\n",
    "    d['train_score'] = train_score\n",
    "    d['test_score'] = test_score\n",
    "    d['RMSE_train'] = RMSE_train\n",
    "    d['RMSE_test'] = RMSE_test\n",
    "    print(d)\n",
    "    return best_model"
   ]
  },
  {
   "cell_type": "code",
   "execution_count": 527,
   "id": "ccfecf7a",
   "metadata": {
    "code_folding": [
     0
    ]
   },
   "outputs": [],
   "source": [
    "# lgb\n",
    "def evl_lgb(df):\n",
    "    folds = KFold(n_splits=10,shuffle=True)\n",
    "    df = fe_train(df)\n",
    "    train = df.drop('SalePrice', axis=1)\n",
    "    target = df['SalePrice']\n",
    "\n",
    "    train_score,test_score,RMSE_train,RMSE_test = [],[],[],[]\n",
    "    best_model = 0\n",
    "    best_RMSE = 100\n",
    "    for train_idx,test_idx in folds.split(train,target):\n",
    "        x_train,y_train = train.iloc[train_idx,:],target[train_idx]\n",
    "        x_test,y_test = train.iloc[test_idx,:],target[test_idx]\n",
    "        \n",
    "        model = lgb().fit(x_train,y_train)\n",
    "        \n",
    "        RMSE = np.sqrt(mean_squared_log_error(y_test,model.predict(x_test)))\n",
    "        \n",
    "        if RMSE < best_RMSE:\n",
    "            best_RMSE = RMSE\n",
    "            best_model = model\n",
    "        \n",
    "        train_score.append(model.score(x_train,y_train))\n",
    "        test_score.append(model.score(x_test,y_test))\n",
    "        RMSE_train.append(np.sqrt(mean_squared_log_error(y_train,model.predict(x_train))))\n",
    "        RMSE_test.append(RMSE)\n",
    "    \n",
    "    d = pd.DataFrame()\n",
    "    d['train_score'] = train_score\n",
    "    d['test_score'] = test_score\n",
    "    d['RMSE_train'] = RMSE_train\n",
    "    d['RMSE_test'] = RMSE_test\n",
    "    print(d)\n",
    "    return best_model"
   ]
  },
  {
   "cell_type": "code",
   "execution_count": 554,
   "id": "9c74898d",
   "metadata": {
    "code_folding": []
   },
   "outputs": [],
   "source": [
    "# to_excel\n",
    "def to_excel():\n",
    "    s = pd.DataFrame()\n",
    "    s['Id'] = Test.Id\n",
    "    s['SalePrice'] = model.predict(fe_train(Test.drop('Id',axis=1)))\n",
    "    s.to_csv('submission.csv',index=False)"
   ]
  },
  {
   "cell_type": "code",
   "execution_count": 459,
   "id": "f27bd198",
   "metadata": {},
   "outputs": [],
   "source": [
    "# merging\n",
    "def merge():\n",
    "    s = pd.DataFrame()\n",
    "    s['Id'] = Test.Id\n",
    "    cat_pre = cat_model.predict(fe_train(Test.drop('Id',axis=1)))\n",
    "    xgb_pre = xgb_model.predict(fe_train(Test.drop('Id',axis=1)))\n",
    "    lgb_pre = lgb_model.predict(fe_train(Test.drop('Id',axis=1)))\n",
    "    s['SalePrice'] = cat_pre*0.8 + xgb_pre*0.1 + lgb_pre*0.1\n",
    "    s.to_csv('submission.csv',index=False)"
   ]
  },
  {
   "cell_type": "code",
   "execution_count": null,
   "id": "9d5d10f1",
   "metadata": {},
   "outputs": [],
   "source": [
    "cat_model = evl_catb(df)\n",
    "\n",
    "xgb_model = evl_xgb(df)\n",
    "\n",
    "lgb_model = evl_lgb(df)"
   ]
  },
  {
   "cell_type": "code",
   "execution_count": null,
   "id": "cc1813a0",
   "metadata": {},
   "outputs": [],
   "source": []
  },
  {
   "cell_type": "code",
   "execution_count": null,
   "id": "c86aad06",
   "metadata": {},
   "outputs": [],
   "source": [
    "model = evl_catb(df)"
   ]
  },
  {
   "cell_type": "code",
   "execution_count": 574,
   "id": "c8bb2ea7",
   "metadata": {},
   "outputs": [],
   "source": [
    "to_excel()  "
   ]
  },
  {
   "cell_type": "code",
   "execution_count": null,
   "id": "eea820ef",
   "metadata": {},
   "outputs": [],
   "source": [
    "model = evl_lgb(df)"
   ]
  },
  {
   "cell_type": "code",
   "execution_count": null,
   "id": "295cc49f",
   "metadata": {},
   "outputs": [],
   "source": []
  },
  {
   "cell_type": "code",
   "execution_count": null,
   "id": "5a1172d4",
   "metadata": {},
   "outputs": [],
   "source": [
    "model = evl(df) \n",
    "to_excel()  \n",
    "model.save_model('catboost')"
   ]
  },
  {
   "cell_type": "code",
   "execution_count": null,
   "id": "b573b89a",
   "metadata": {},
   "outputs": [],
   "source": []
  },
  {
   "cell_type": "code",
   "execution_count": null,
   "id": "c8bcba5d",
   "metadata": {},
   "outputs": [],
   "source": []
  },
  {
   "cell_type": "code",
   "execution_count": null,
   "id": "8f11cbca",
   "metadata": {},
   "outputs": [],
   "source": []
  },
  {
   "cell_type": "code",
   "execution_count": null,
   "id": "e961a20f",
   "metadata": {},
   "outputs": [],
   "source": []
  },
  {
   "cell_type": "code",
   "execution_count": null,
   "id": "cb232c9d",
   "metadata": {},
   "outputs": [],
   "source": []
  },
  {
   "cell_type": "code",
   "execution_count": null,
   "id": "5fbae02f",
   "metadata": {},
   "outputs": [],
   "source": []
  },
  {
   "cell_type": "code",
   "execution_count": null,
   "id": "2224750b",
   "metadata": {},
   "outputs": [],
   "source": []
  },
  {
   "cell_type": "code",
   "execution_count": null,
   "id": "3d6ca9e1",
   "metadata": {},
   "outputs": [],
   "source": []
  },
  {
   "cell_type": "code",
   "execution_count": null,
   "id": "06476efc",
   "metadata": {},
   "outputs": [],
   "source": []
  },
  {
   "cell_type": "code",
   "execution_count": null,
   "id": "5543c898",
   "metadata": {},
   "outputs": [],
   "source": []
  },
  {
   "cell_type": "code",
   "execution_count": null,
   "id": "280bf115",
   "metadata": {},
   "outputs": [],
   "source": []
  },
  {
   "cell_type": "code",
   "execution_count": null,
   "id": "e13c94ff",
   "metadata": {},
   "outputs": [],
   "source": []
  }
 ],
 "metadata": {
  "kernelspec": {
   "display_name": "Python 3 (ipykernel)",
   "language": "python",
   "name": "python3"
  },
  "language_info": {
   "codemirror_mode": {
    "name": "ipython",
    "version": 3
   },
   "file_extension": ".py",
   "mimetype": "text/x-python",
   "name": "python",
   "nbconvert_exporter": "python",
   "pygments_lexer": "ipython3",
   "version": "3.10.2"
  },
  "toc": {
   "base_numbering": 1,
   "nav_menu": {},
   "number_sections": true,
   "sideBar": true,
   "skip_h1_title": false,
   "title_cell": "Table of Contents",
   "title_sidebar": "Contents",
   "toc_cell": false,
   "toc_position": {},
   "toc_section_display": true,
   "toc_window_display": false
  },
  "varInspector": {
   "cols": {
    "lenName": 16,
    "lenType": 16,
    "lenVar": 40
   },
   "kernels_config": {
    "python": {
     "delete_cmd_postfix": "",
     "delete_cmd_prefix": "del ",
     "library": "var_list.py",
     "varRefreshCmd": "print(var_dic_list())"
    },
    "r": {
     "delete_cmd_postfix": ") ",
     "delete_cmd_prefix": "rm(",
     "library": "var_list.r",
     "varRefreshCmd": "cat(var_dic_list()) "
    }
   },
   "types_to_exclude": [
    "module",
    "function",
    "builtin_function_or_method",
    "instance",
    "_Feature"
   ],
   "window_display": false
  }
 },
 "nbformat": 4,
 "nbformat_minor": 5
}
